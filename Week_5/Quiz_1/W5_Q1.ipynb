{
 "cells": [
  {
   "cell_type": "markdown",
   "metadata": {},
   "source": [
    "### Machine Learning Foundation Specialization"
   ]
  },
  {
   "cell_type": "markdown",
   "metadata": {},
   "source": [
    "#### University of Washington - Seattle"
   ]
  },
  {
   "cell_type": "markdown",
   "metadata": {},
   "source": [
    "##### Week 5 Quiz#1 Recommender System"
   ]
  },
  {
   "cell_type": "code",
   "execution_count": 1,
   "metadata": {},
   "outputs": [],
   "source": [
    "## Created by Quincy Gu\n",
    "## Created on 05/02/2020 22:11\n",
    "## Gu.Qiangqiang@mayo.edu\n",
    "## Mayo Clinic College of Medicine and Sciences"
   ]
  },
  {
   "cell_type": "markdown",
   "metadata": {},
   "source": [
    "<br>"
   ]
  },
  {
   "cell_type": "markdown",
   "metadata": {},
   "source": [
    "##### **Problem 1.** Recommending items based on global popularity can (check all that apply):\n",
    "##### A. provide personalization\n",
    "##### B. capture context (e.g., time of day)\n",
    "##### C. none of the above\n",
    "\n",
    "##### **Answer:** C"
   ]
  },
  {
   "cell_type": "markdown",
   "metadata": {},
   "source": [
    "<br>"
   ]
  },
  {
   "cell_type": "markdown",
   "metadata": {},
   "source": [
    "##### **Problem 2.** Recommending items using a classification approach can (check all that apply):\n",
    "##### A. provide personalization\n",
    "##### B. capture context (e.g., time of day)\n",
    "##### C. none of the above\n",
    "\n",
    "##### **Answer:** A & B"
   ]
  },
  {
   "cell_type": "markdown",
   "metadata": {},
   "source": [
    "<br>"
   ]
  },
  {
   "cell_type": "markdown",
   "metadata": {},
   "source": [
    "##### **Problem 3.** Recommending items using a simple count based co-occurrence matrix can (check all that apply):\n",
    "##### A. provide personalization\n",
    "##### B. capture context (e.g., time of day)\n",
    "##### C. none of the above\n",
    "\n",
    "##### **Answer:** A"
   ]
  },
  {
   "cell_type": "markdown",
   "metadata": {},
   "source": [
    "<br>"
   ]
  },
  {
   "cell_type": "markdown",
   "metadata": {},
   "source": [
    "##### **Problem 4.** Recommending items using featurized matrix factorization can (check all that apply):\n",
    "##### A. provide personalization\n",
    "##### B. capture context (e.g., time of day)\n",
    "##### C. none of the above\n",
    "\n",
    "##### **Answer:** A & B"
   ]
  },
  {
   "cell_type": "markdown",
   "metadata": {},
   "source": [
    "<br>"
   ]
  },
  {
   "cell_type": "markdown",
   "metadata": {},
   "source": [
    "##### **Problem 5.** Normalizing co-occurrence matrices is used primarily to account for:\n",
    "##### A. people who purchased many items\n",
    "##### B. items purchased by many people\n",
    "##### C. eliminating rare products\n",
    "##### D. none of the above\n",
    "\n",
    "##### **Answer:** B"
   ]
  },
  {
   "cell_type": "markdown",
   "metadata": {},
   "source": [
    "<br>"
   ]
  },
  {
   "cell_type": "markdown",
   "metadata": {},
   "source": [
    "##### **Problem 6.** A store has 3 customers and 3 products. Below are the learned feature vectors for each user and product. Based on this estimated model, which product would you recommend most highly to User #2?\n",
    "\n",
    "[Table](Img/6.png)\n",
    "\n",
    "##### A. Product #1\n",
    "##### B. Product #2\n",
    "##### C. Product #3\n",
    "\n",
    "##### **Answer:** B"
   ]
  },
  {
   "cell_type": "markdown",
   "metadata": {},
   "source": [
    "<br>"
   ]
  },
  {
   "cell_type": "markdown",
   "metadata": {},
   "source": [
    "##### **Problem 7.** For the liked and recommended items displayed below, calculate the recall and round to 2 decimal points. (As in the lesson, green squares indicate recommended items, magenta squares are liked items. Items not recommended are grayed out for clarity.) Note: enter your answer in American decimal format (e.g. enter 0.98, not 0,98)\n",
    "\n",
    "[Figure for Problem 7](Img/7-8.png)\n",
    "\n",
    "##### **Answer:** 0.33"
   ]
  },
  {
   "cell_type": "markdown",
   "metadata": {},
   "source": [
    "<br>"
   ]
  },
  {
   "cell_type": "markdown",
   "metadata": {},
   "source": [
    "##### **Problem 8.** For the liked and recommended items displayed below, calculate the precision and round to 2 decimal points. (As in the lesson, green squares indicate recommended items, magenta squares are liked items. Items not recommended are grayed out for clarity.) Note: enter your answer in American decimal format (e.g. enter 0.98, not 0,98)\n",
    "\n",
    "[Figure for Problem 8](Img/7-8.png)\n",
    "\n",
    "##### **Answer:** 0.25"
   ]
  },
  {
   "cell_type": "markdown",
   "metadata": {},
   "source": [
    "<br>"
   ]
  },
  {
   "cell_type": "markdown",
   "metadata": {},
   "source": [
    "##### **Problem 9.** Based on the precision-recall curves in the figure below, which recommender would you use?\n",
    "\n",
    "[Figure for Problem 9](Img/9.png)\n",
    "\n",
    "##### A. RecSys #1\n",
    "##### B. RecSys #2\n",
    "##### C. RecSys #3\n",
    "\n",
    "##### **Answer:** A"
   ]
  }
 ],
 "metadata": {
  "kernelspec": {
   "display_name": "Python 3",
   "language": "python",
   "name": "python3"
  },
  "language_info": {
   "codemirror_mode": {
    "name": "ipython",
    "version": 3
   },
   "file_extension": ".py",
   "mimetype": "text/x-python",
   "name": "python",
   "nbconvert_exporter": "python",
   "pygments_lexer": "ipython3",
   "version": "3.7.6"
  }
 },
 "nbformat": 4,
 "nbformat_minor": 4
}
