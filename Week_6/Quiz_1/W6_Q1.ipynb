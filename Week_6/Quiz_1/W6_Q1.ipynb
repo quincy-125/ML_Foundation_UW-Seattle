{
 "cells": [
  {
   "cell_type": "markdown",
   "metadata": {},
   "source": [
    "### Machine Learning Foundation Specialization"
   ]
  },
  {
   "cell_type": "markdown",
   "metadata": {},
   "source": [
    "#### University of Washington - Seattle"
   ]
  },
  {
   "cell_type": "markdown",
   "metadata": {},
   "source": [
    "##### Week 6 Quiz#1 Deep Learning"
   ]
  },
  {
   "cell_type": "markdown",
   "metadata": {},
   "source": [
    "<br>"
   ]
  },
  {
   "cell_type": "code",
   "execution_count": 1,
   "metadata": {},
   "outputs": [],
   "source": [
    "## Created by Quincy Gu\n",
    "## Created on 05/03/2020 01:28\n",
    "## Gu.Qiangqiang@mayo.edu\n",
    "## Mayo Clinic College of Medicine and Sciences"
   ]
  },
  {
   "cell_type": "markdown",
   "metadata": {},
   "source": [
    "<br>"
   ]
  },
  {
   "cell_type": "markdown",
   "metadata": {},
   "source": [
    "##### **Problem 1.** Which of the following statements are true? (Check all that apply)\n",
    "\n",
    "##### A. Linear classifiers are never useful, because they cannot represent XOR\n",
    "##### B. Linear classifiers are useful, because, with enough data, they can represent anything\n",
    "##### C. Having good non-linear features can allow us learn very accurate linear classifiers\n",
    "##### D. none of the above\n",
    "\n",
    "##### **Answer:** C"
   ]
  },
  {
   "cell_type": "markdown",
   "metadata": {},
   "source": [
    "<br>"
   ]
  },
  {
   "cell_type": "markdown",
   "metadata": {},
   "source": [
    "##### **Problem 2.** A simple linear classifier can represent which of the following functions? (Check all that apply)\n",
    "##### Hint: If you are stuck, see [this link](https://www.coursera.org/learn/ml-foundations/module/nqC1t/discussions/AAIUurrtEeWGphLhfbPAyQ)\n",
    "\n",
    "##### A. x1 OR x2 OR NOT x3\n",
    "##### B. x1 AND x2 AND NOT x3\n",
    "##### C. x1 OR (x2 AND NOT x3)\n",
    "##### D. none of the above\n",
    "\n",
    "##### **Answer:** A & B & C"
   ]
  },
  {
   "cell_type": "markdown",
   "metadata": {},
   "source": [
    "<br>"
   ]
  },
  {
   "cell_type": "markdown",
   "metadata": {},
   "source": [
    "##### **Problem 3.** Which of the the following neural networks can represent the following function? Select all that apply.\n",
    "\n",
    "##### (x1 AND x2) OR (NOT x1 AND NOT x2)\n",
    "##### Hint: If you are stuck, see [this link](https://www.coursera.org/learn/ml-foundations/module/nqC1t/discussions/AAIUurrtEeWGphLhfbPAyQ)\n",
    "\n",
    "[A](Img/3-1.png)\n",
    "[B](Img/3-2.png)\n",
    "[C](Img/3-3.png)\n",
    "[D](Img/3-4.png)\n",
    "[E](Img/3-5.png)\n",
    "\n",
    "##### **Answer:** D"
   ]
  },
  {
   "cell_type": "markdown",
   "metadata": {},
   "source": [
    "<br>"
   ]
  },
  {
   "cell_type": "markdown",
   "metadata": {},
   "source": [
    "##### **Problem 4.** Which of the following statements is true? (Check all that apply)\n",
    "\n",
    "##### A. Features in computer vision act like local detectors\n",
    "##### B. Deep learning has had impact in computer vision, because it's used to combine all the different hand-created features that already exist\n",
    "##### C. By learning non-linear features, neural networks have allowed us to automatically learn detectors for computer vision\n",
    "##### D. none of the above\n",
    "\n",
    "##### **Answer:** A & C"
   ]
  },
  {
   "cell_type": "markdown",
   "metadata": {},
   "source": [
    "<br>"
   ]
  },
  {
   "cell_type": "markdown",
   "metadata": {},
   "source": [
    "##### **Problem 5.** If you have lots of images of different types of plankton labeled with their species name, and lots of computational resources, what would you expect to perform better predictions:\n",
    "\n",
    "##### A. a deep neural network trained on this data\n",
    "##### B. a simple classifier trained on this data, using deep features as input, which were trained using ImageNet data\n",
    "\n",
    "##### **Answer:** A"
   ]
  },
  {
   "cell_type": "markdown",
   "metadata": {},
   "source": [
    "<br>"
   ]
  },
  {
   "cell_type": "markdown",
   "metadata": {},
   "source": [
    "##### **Problem 6.** If you have a few images of different types of plankton labeled with their species name, what would you expect to perform better predictions:\n",
    "\n",
    "##### A. a deep neural network trained on this data\n",
    "##### B. a simple classifier trained on this data, using deep features as input, which were trained using ImageNet data\n",
    "\n",
    "##### **Answer:** B"
   ]
  }
 ],
 "metadata": {
  "kernelspec": {
   "display_name": "Python 3",
   "language": "python",
   "name": "python3"
  },
  "language_info": {
   "codemirror_mode": {
    "name": "ipython",
    "version": 3
   },
   "file_extension": ".py",
   "mimetype": "text/x-python",
   "name": "python",
   "nbconvert_exporter": "python",
   "pygments_lexer": "ipython3",
   "version": "3.7.6"
  }
 },
 "nbformat": 4,
 "nbformat_minor": 4
}
